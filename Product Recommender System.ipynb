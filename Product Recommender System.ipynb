{
 "cells": [
  {
   "cell_type": "markdown",
   "id": "3df2f601",
   "metadata": {},
   "source": [
    "## Product Recommender System"
   ]
  },
  {
   "cell_type": "code",
   "execution_count": 28,
   "id": "1b89d229",
   "metadata": {},
   "outputs": [],
   "source": [
    "import pandas as pd\n",
    "import numpy as np\n",
    "import nltk "
   ]
  },
  {
   "cell_type": "code",
   "execution_count": 29,
   "id": "c298ebbd",
   "metadata": {},
   "outputs": [],
   "source": [
    "amazon=pd.read_csv('amazon_product.csv')"
   ]
  },
  {
   "cell_type": "code",
   "execution_count": 30,
   "id": "d0898ba2",
   "metadata": {},
   "outputs": [
    {
     "data": {
      "text/html": [
       "<div>\n",
       "<style scoped>\n",
       "    .dataframe tbody tr th:only-of-type {\n",
       "        vertical-align: middle;\n",
       "    }\n",
       "\n",
       "    .dataframe tbody tr th {\n",
       "        vertical-align: top;\n",
       "    }\n",
       "\n",
       "    .dataframe thead th {\n",
       "        text-align: right;\n",
       "    }\n",
       "</style>\n",
       "<table border=\"1\" class=\"dataframe\">\n",
       "  <thead>\n",
       "    <tr style=\"text-align: right;\">\n",
       "      <th></th>\n",
       "      <th>id</th>\n",
       "      <th>Title</th>\n",
       "      <th>Description</th>\n",
       "      <th>Category</th>\n",
       "    </tr>\n",
       "  </thead>\n",
       "  <tbody>\n",
       "    <tr>\n",
       "      <th>0</th>\n",
       "      <td>1</td>\n",
       "      <td>Swissmar Capstore Select Storage Rack for 18-...</td>\n",
       "      <td>Swissmar's capstore select 18 storage unit kee...</td>\n",
       "      <td>Home &amp; Kitchen Kitchen &amp; Dining Kitchen Utens...</td>\n",
       "    </tr>\n",
       "    <tr>\n",
       "      <th>1</th>\n",
       "      <td>2</td>\n",
       "      <td>Gemini200 Delta CV-880 Gold Crown Livery Airc...</td>\n",
       "      <td>Welcome to the exciting world of GeminiJets! O...</td>\n",
       "      <td>Toys &amp; Games Hobbies Models &amp; Model Kits Pre-...</td>\n",
       "    </tr>\n",
       "    <tr>\n",
       "      <th>2</th>\n",
       "      <td>5</td>\n",
       "      <td>Superior Threads 10501-2172 Magnifico Cream P...</td>\n",
       "      <td>For quilting and embroidery, this product is m...</td>\n",
       "      <td>Arts, Crafts &amp; Sewing Sewing Thread &amp; Floss S...</td>\n",
       "    </tr>\n",
       "    <tr>\n",
       "      <th>3</th>\n",
       "      <td>6</td>\n",
       "      <td>Fashion Angels Color Rox Hair Chox Kit</td>\n",
       "      <td>Experiment with the haute trend of hair chalki...</td>\n",
       "      <td>Beauty &amp; Personal Care Hair Care Hair Colorin...</td>\n",
       "    </tr>\n",
       "    <tr>\n",
       "      <th>4</th>\n",
       "      <td>8</td>\n",
       "      <td>Union Creative Giant Killing Figure 05: Daisu...</td>\n",
       "      <td>From Union Creative. Turn your display shelf i...</td>\n",
       "      <td>Toys &amp; Games › Action Figures &amp; Statues › Sta...</td>\n",
       "    </tr>\n",
       "  </tbody>\n",
       "</table>\n",
       "</div>"
      ],
      "text/plain": [
       "   id                                              Title  \\\n",
       "0   1   Swissmar Capstore Select Storage Rack for 18-...   \n",
       "1   2   Gemini200 Delta CV-880 Gold Crown Livery Airc...   \n",
       "2   5   Superior Threads 10501-2172 Magnifico Cream P...   \n",
       "3   6            Fashion Angels Color Rox Hair Chox Kit    \n",
       "4   8   Union Creative Giant Killing Figure 05: Daisu...   \n",
       "\n",
       "                                         Description  \\\n",
       "0  Swissmar's capstore select 18 storage unit kee...   \n",
       "1  Welcome to the exciting world of GeminiJets! O...   \n",
       "2  For quilting and embroidery, this product is m...   \n",
       "3  Experiment with the haute trend of hair chalki...   \n",
       "4  From Union Creative. Turn your display shelf i...   \n",
       "\n",
       "                                            Category  \n",
       "0   Home & Kitchen Kitchen & Dining Kitchen Utens...  \n",
       "1   Toys & Games Hobbies Models & Model Kits Pre-...  \n",
       "2   Arts, Crafts & Sewing Sewing Thread & Floss S...  \n",
       "3   Beauty & Personal Care Hair Care Hair Colorin...  \n",
       "4   Toys & Games › Action Figures & Statues › Sta...  "
      ]
     },
     "execution_count": 30,
     "metadata": {},
     "output_type": "execute_result"
    }
   ],
   "source": [
    "amazon.head()"
   ]
  },
  {
   "cell_type": "code",
   "execution_count": 31,
   "id": "16c8a7fb",
   "metadata": {},
   "outputs": [],
   "source": [
    "amazon.drop(columns='id',inplace=True)"
   ]
  },
  {
   "cell_type": "code",
   "execution_count": 32,
   "id": "78c5d51f",
   "metadata": {},
   "outputs": [
    {
     "data": {
      "text/html": [
       "<div>\n",
       "<style scoped>\n",
       "    .dataframe tbody tr th:only-of-type {\n",
       "        vertical-align: middle;\n",
       "    }\n",
       "\n",
       "    .dataframe tbody tr th {\n",
       "        vertical-align: top;\n",
       "    }\n",
       "\n",
       "    .dataframe thead th {\n",
       "        text-align: right;\n",
       "    }\n",
       "</style>\n",
       "<table border=\"1\" class=\"dataframe\">\n",
       "  <thead>\n",
       "    <tr style=\"text-align: right;\">\n",
       "      <th></th>\n",
       "      <th>Title</th>\n",
       "      <th>Description</th>\n",
       "      <th>Category</th>\n",
       "    </tr>\n",
       "  </thead>\n",
       "  <tbody>\n",
       "    <tr>\n",
       "      <th>0</th>\n",
       "      <td>Swissmar Capstore Select Storage Rack for 18-...</td>\n",
       "      <td>Swissmar's capstore select 18 storage unit kee...</td>\n",
       "      <td>Home &amp; Kitchen Kitchen &amp; Dining Kitchen Utens...</td>\n",
       "    </tr>\n",
       "    <tr>\n",
       "      <th>1</th>\n",
       "      <td>Gemini200 Delta CV-880 Gold Crown Livery Airc...</td>\n",
       "      <td>Welcome to the exciting world of GeminiJets! O...</td>\n",
       "      <td>Toys &amp; Games Hobbies Models &amp; Model Kits Pre-...</td>\n",
       "    </tr>\n",
       "    <tr>\n",
       "      <th>2</th>\n",
       "      <td>Superior Threads 10501-2172 Magnifico Cream P...</td>\n",
       "      <td>For quilting and embroidery, this product is m...</td>\n",
       "      <td>Arts, Crafts &amp; Sewing Sewing Thread &amp; Floss S...</td>\n",
       "    </tr>\n",
       "    <tr>\n",
       "      <th>3</th>\n",
       "      <td>Fashion Angels Color Rox Hair Chox Kit</td>\n",
       "      <td>Experiment with the haute trend of hair chalki...</td>\n",
       "      <td>Beauty &amp; Personal Care Hair Care Hair Colorin...</td>\n",
       "    </tr>\n",
       "    <tr>\n",
       "      <th>4</th>\n",
       "      <td>Union Creative Giant Killing Figure 05: Daisu...</td>\n",
       "      <td>From Union Creative. Turn your display shelf i...</td>\n",
       "      <td>Toys &amp; Games › Action Figures &amp; Statues › Sta...</td>\n",
       "    </tr>\n",
       "  </tbody>\n",
       "</table>\n",
       "</div>"
      ],
      "text/plain": [
       "                                               Title  \\\n",
       "0   Swissmar Capstore Select Storage Rack for 18-...   \n",
       "1   Gemini200 Delta CV-880 Gold Crown Livery Airc...   \n",
       "2   Superior Threads 10501-2172 Magnifico Cream P...   \n",
       "3            Fashion Angels Color Rox Hair Chox Kit    \n",
       "4   Union Creative Giant Killing Figure 05: Daisu...   \n",
       "\n",
       "                                         Description  \\\n",
       "0  Swissmar's capstore select 18 storage unit kee...   \n",
       "1  Welcome to the exciting world of GeminiJets! O...   \n",
       "2  For quilting and embroidery, this product is m...   \n",
       "3  Experiment with the haute trend of hair chalki...   \n",
       "4  From Union Creative. Turn your display shelf i...   \n",
       "\n",
       "                                            Category  \n",
       "0   Home & Kitchen Kitchen & Dining Kitchen Utens...  \n",
       "1   Toys & Games Hobbies Models & Model Kits Pre-...  \n",
       "2   Arts, Crafts & Sewing Sewing Thread & Floss S...  \n",
       "3   Beauty & Personal Care Hair Care Hair Colorin...  \n",
       "4   Toys & Games › Action Figures & Statues › Sta...  "
      ]
     },
     "execution_count": 32,
     "metadata": {},
     "output_type": "execute_result"
    }
   ],
   "source": [
    "amazon.head()"
   ]
  },
  {
   "cell_type": "code",
   "execution_count": 33,
   "id": "699fb4c4",
   "metadata": {},
   "outputs": [
    {
     "data": {
      "text/plain": [
       "Title          0\n",
       "Description    0\n",
       "Category       0\n",
       "dtype: int64"
      ]
     },
     "execution_count": 33,
     "metadata": {},
     "output_type": "execute_result"
    }
   ],
   "source": [
    "amazon.isnull().sum()"
   ]
  },
  {
   "cell_type": "code",
   "execution_count": 34,
   "id": "feda8941",
   "metadata": {},
   "outputs": [],
   "source": [
    "from nltk.stem.snowball import SnowballStemmer\n",
    "stemmer=SnowballStemmer('english')\n",
    "def tokenize_stem(text):\n",
    "    tokens = nltk.word_tokenize(text.lower())\n",
    "    stemmed =[ stemmer.stem(w) for w in tokens ]\n",
    "    return ' '.join(stemmed)"
   ]
  },
  {
   "cell_type": "code",
   "execution_count": 35,
   "id": "7591746a",
   "metadata": {},
   "outputs": [],
   "source": [
    "amazon['stemmed_tokens']=amazon.apply(lambda row:tokenize_stem(row['Title']+' '+ row['Description']),axis=1)"
   ]
  },
  {
   "cell_type": "code",
   "execution_count": 36,
   "id": "815918bb",
   "metadata": {},
   "outputs": [],
   "source": [
    "from sklearn.feature_extraction.text import TfidfVectorizer\n",
    "from sklearn.metrics.pairwise import cosine_similarity"
   ]
  },
  {
   "cell_type": "code",
   "execution_count": 44,
   "id": "273d8823",
   "metadata": {},
   "outputs": [],
   "source": [
    "tfidfv=TfidfVectorizer(tokenizer=tokenize_stem)\n",
    "def cosine_sim(txt1,txt2):\n",
    "    matrix=tfidfv.fit_transform([txt1,txt2])\n",
    "    return cosine_similarity(matrix)[0][1]"
   ]
  },
  {
   "cell_type": "code",
   "execution_count": 45,
   "id": "d54ccca8",
   "metadata": {},
   "outputs": [],
   "source": [
    "def search_product(query):\n",
    "    stemmed_query=tokenize_stem(query)\n",
    "    # calculating cosine similarity between query and stemmed tokens columns\n",
    "    amazon['similarity']=amazon['stemmed_tokens'].apply(lambda x:cosine_sim(stemmed_query,x))\n",
    "    res=amazon.sort_values(by=['similarity'],ascending=False).head(10)[['Title','Description','Category']]\n",
    "    return res"
   ]
  },
  {
   "cell_type": "code",
   "execution_count": 46,
   "id": "e0fa2825",
   "metadata": {},
   "outputs": [
    {
     "data": {
      "text/html": [
       "<div>\n",
       "<style scoped>\n",
       "    .dataframe tbody tr th:only-of-type {\n",
       "        vertical-align: middle;\n",
       "    }\n",
       "\n",
       "    .dataframe tbody tr th {\n",
       "        vertical-align: top;\n",
       "    }\n",
       "\n",
       "    .dataframe thead th {\n",
       "        text-align: right;\n",
       "    }\n",
       "</style>\n",
       "<table border=\"1\" class=\"dataframe\">\n",
       "  <thead>\n",
       "    <tr style=\"text-align: right;\">\n",
       "      <th></th>\n",
       "      <th>Title</th>\n",
       "      <th>Description</th>\n",
       "      <th>Category</th>\n",
       "    </tr>\n",
       "  </thead>\n",
       "  <tbody>\n",
       "    <tr>\n",
       "      <th>475</th>\n",
       "      <td>Pacon Spectra Glitter Sparkling Crystals</td>\n",
       "      <td>Change all to: Spectra Glitter, Sparkling Crys...</td>\n",
       "      <td>Arts, Crafts &amp; Sewing › Crafting › Craft Supp...</td>\n",
       "    </tr>\n",
       "    <tr>\n",
       "      <th>463</th>\n",
       "      <td>Versio Mobile 3-Pack Screen Protector for LG ...</td>\n",
       "      <td>Clear 3 Pack Screen Protector For LG G2</td>\n",
       "      <td>Cell Phones &amp; Accessories Accessories Screen ...</td>\n",
       "    </tr>\n",
       "    <tr>\n",
       "      <th>593</th>\n",
       "      <td>Qmadix QM-SPHTC6410 Screen Protector for HTC ...</td>\n",
       "      <td>Protect your device's display from dust, scrat...</td>\n",
       "      <td>Cell Phones &amp; Accessories Accessories Screen ...</td>\n",
       "    </tr>\n",
       "    <tr>\n",
       "      <th>526</th>\n",
       "      <td>Titan Classic Spandex Dreadlock Cap, Regular</td>\n",
       "      <td>Spandex Dreadlock Cap - Regular Size. Covers M...</td>\n",
       "      <td>Beauty &amp; Personal Care › Hair Care</td>\n",
       "    </tr>\n",
       "    <tr>\n",
       "      <th>177</th>\n",
       "      <td>Sargent Art 22-7099 6-Count 8-Ounce Fluoresce...</td>\n",
       "      <td>Sargent art's washable watercolor magic is uni...</td>\n",
       "      <td>Arts, Crafts &amp; Sewing › Painting, Drawing &amp; A...</td>\n",
       "    </tr>\n",
       "    <tr>\n",
       "      <th>0</th>\n",
       "      <td>Swissmar Capstore Select Storage Rack for 18-...</td>\n",
       "      <td>Swissmar's capstore select 18 storage unit kee...</td>\n",
       "      <td>Home &amp; Kitchen Kitchen &amp; Dining Kitchen Utens...</td>\n",
       "    </tr>\n",
       "    <tr>\n",
       "      <th>147</th>\n",
       "      <td>Martha Stewart Crafts 32802 Stencil Brushes (...</td>\n",
       "      <td>Transfer patterns with ease by painting over t...</td>\n",
       "      <td>Arts, Crafts &amp; Sewing Crafting Paper &amp; Paper ...</td>\n",
       "    </tr>\n",
       "    <tr>\n",
       "      <th>110</th>\n",
       "      <td>Core Products Elastic Criss Cross Back Suppor...</td>\n",
       "      <td>The Elastic Crisscross Back Support helps reli...</td>\n",
       "      <td>Health &amp; Household › Medical Supplies &amp; Equip...</td>\n",
       "    </tr>\n",
       "    <tr>\n",
       "      <th>384</th>\n",
       "      <td>Visol Ferrara Red Cigar Case - Holds 2-3 Cigars</td>\n",
       "      <td>Vibrant red, soft leather wraps this crushproo...</td>\n",
       "      <td>Health &amp; Household Household Supplies Tobacco...</td>\n",
       "    </tr>\n",
       "    <tr>\n",
       "      <th>13</th>\n",
       "      <td>BRUT After Shave Classic Fragrance 5 oz (Pack...</td>\n",
       "      <td>BRUT After Shave Classic Fragrance 5 oz (Pack ...</td>\n",
       "      <td>Beauty &amp; Personal Care › Shave &amp; Hair Removal...</td>\n",
       "    </tr>\n",
       "  </tbody>\n",
       "</table>\n",
       "</div>"
      ],
      "text/plain": [
       "                                                 Title  \\\n",
       "475          Pacon Spectra Glitter Sparkling Crystals    \n",
       "463   Versio Mobile 3-Pack Screen Protector for LG ...   \n",
       "593   Qmadix QM-SPHTC6410 Screen Protector for HTC ...   \n",
       "526      Titan Classic Spandex Dreadlock Cap, Regular    \n",
       "177   Sargent Art 22-7099 6-Count 8-Ounce Fluoresce...   \n",
       "0     Swissmar Capstore Select Storage Rack for 18-...   \n",
       "147   Martha Stewart Crafts 32802 Stencil Brushes (...   \n",
       "110   Core Products Elastic Criss Cross Back Suppor...   \n",
       "384   Visol Ferrara Red Cigar Case - Holds 2-3 Cigars    \n",
       "13    BRUT After Shave Classic Fragrance 5 oz (Pack...   \n",
       "\n",
       "                                           Description  \\\n",
       "475  Change all to: Spectra Glitter, Sparkling Crys...   \n",
       "463           Clear 3 Pack Screen Protector For LG G2    \n",
       "593  Protect your device's display from dust, scrat...   \n",
       "526  Spandex Dreadlock Cap - Regular Size. Covers M...   \n",
       "177  Sargent art's washable watercolor magic is uni...   \n",
       "0    Swissmar's capstore select 18 storage unit kee...   \n",
       "147  Transfer patterns with ease by painting over t...   \n",
       "110  The Elastic Crisscross Back Support helps reli...   \n",
       "384  Vibrant red, soft leather wraps this crushproo...   \n",
       "13   BRUT After Shave Classic Fragrance 5 oz (Pack ...   \n",
       "\n",
       "                                              Category  \n",
       "475   Arts, Crafts & Sewing › Crafting › Craft Supp...  \n",
       "463   Cell Phones & Accessories Accessories Screen ...  \n",
       "593   Cell Phones & Accessories Accessories Screen ...  \n",
       "526                Beauty & Personal Care › Hair Care   \n",
       "177   Arts, Crafts & Sewing › Painting, Drawing & A...  \n",
       "0     Home & Kitchen Kitchen & Dining Kitchen Utens...  \n",
       "147   Arts, Crafts & Sewing Crafting Paper & Paper ...  \n",
       "110   Health & Household › Medical Supplies & Equip...  \n",
       "384   Health & Household Household Supplies Tobacco...  \n",
       "13    Beauty & Personal Care › Shave & Hair Removal...  "
      ]
     },
     "execution_count": 46,
     "metadata": {},
     "output_type": "execute_result"
    }
   ],
   "source": [
    "search_product(' Swissmar Capstore Select Storage Rack for 18-Pack')"
   ]
  }
 ],
 "metadata": {
  "kernelspec": {
   "display_name": "Python (GPU)",
   "language": "python",
   "name": "gpu_env"
  },
  "language_info": {
   "codemirror_mode": {
    "name": "ipython",
    "version": 3
   },
   "file_extension": ".py",
   "mimetype": "text/x-python",
   "name": "python",
   "nbconvert_exporter": "python",
   "pygments_lexer": "ipython3",
   "version": "3.9.13"
  }
 },
 "nbformat": 4,
 "nbformat_minor": 5
}
